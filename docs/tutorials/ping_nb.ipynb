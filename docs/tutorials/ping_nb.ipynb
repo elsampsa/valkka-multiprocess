{
 "cells": [
  {
   "cell_type": "markdown",
   "id": "effc7f25",
   "metadata": {
    "tags": [
     "remove_cell"
    ]
   },
   "source": [
    "## This is an example how to write examples & tutorials with notebooks"
   ]
  },
  {
   "cell_type": "code",
   "execution_count": 1,
   "id": "c65e873a",
   "metadata": {
    "tags": [
     "remove_cell"
    ]
   },
   "outputs": [
    {
     "data": {
      "text/html": [
       "<style>.container { width:100% !important; }</style>"
      ],
      "text/plain": [
       "<IPython.core.display.HTML object>"
      ]
     },
     "metadata": {},
     "output_type": "display_data"
    }
   ],
   "source": [
    "# use these magic spells to update your classes methods on-the-fly as you edit them:\n",
    "# please enable in the notebook menus:\n",
    "# view --> cell toolbar --> tags\n",
    "# then you can see that this cell has the \"remove_cell\" tag enabled --> it won't show in the final tutorial\n",
    "%reload_ext autoreload\n",
    "%autoreload 2\n",
    "from pprint import pprint\n",
    "from IPython.core.display import display, HTML, Markdown\n",
    "import ipywidgets as widgets\n",
    "# %run includeme.ipynb # include a notebook from this same directory\n",
    "display(HTML(\"<style>.container { width:100% !important; }</style>\"))"
   ]
  },
  {
   "cell_type": "code",
   "execution_count": null,
   "id": "1bd96ee3",
   "metadata": {},
   "outputs": [],
   "source": [
    "from valkka.multiprocess import MessageProcess, "
   ]
  }
 ],
 "metadata": {
  "celltoolbar": "Tags",
  "kernelspec": {
   "display_name": "Python 3",
   "language": "python",
   "name": "python3"
  },
  "language_info": {
   "codemirror_mode": {
    "name": "ipython",
    "version": 3
   },
   "file_extension": ".py",
   "mimetype": "text/x-python",
   "name": "python",
   "nbconvert_exporter": "python",
   "pygments_lexer": "ipython3",
   "version": "3.8.10"
  }
 },
 "nbformat": 4,
 "nbformat_minor": 5
}
